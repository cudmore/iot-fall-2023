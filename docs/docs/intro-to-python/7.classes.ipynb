{
 "cells": [
  {
   "cell_type": "markdown",
   "metadata": {},
   "source": [
    "## Classes in Python\n",
    "\n",
    "So far we have gone over built in variable types like string, integer, float, boolean, and list. Now we turn to the final variable type that is called a `class`.\n",
    "\n",
    "Classes do not exist by default but need to be create by us, the programmers!\n",
    "\n",
    "Here is a simple example."
   ]
  },
  {
   "cell_type": "code",
   "execution_count": 4,
   "metadata": {},
   "outputs": [],
   "source": [
    "class MyClass():\n",
    "    def __init__(self):\n",
    "        # define a member variable named aVariable\n",
    "        self.aVariable = 1.1\n",
    "\n",
    "    def getVariable(self):\n",
    "        \"\"\"Get the current value.\n",
    "        \"\"\"\n",
    "        return self.aVariable\n",
    "    \n",
    "    def setVariable(self, newValue):\n",
    "        \"\"\"Set the current value.\n",
    "        \"\"\"\n",
    "        self.aVariable = newValue"
   ]
  },
  {
   "cell_type": "markdown",
   "metadata": {},
   "source": [
    "A particular thing about classes is they use a Python keyword `self`. This lets Python know you are defining something for the class you are in.\n",
    "\n",
    "Each class can have its own local variables like `self.aVariable`\n",
    "\n",
    "Each class can have its own functions like `def getVariable(self)`\n",
    "\n",
    "Variables defined in a class are called `member variables`. Functions defined in a class are called `member functions`.\n",
    "\n",
    "In our example, we made a class named `MyClass`. It has one member variable, `aVariable`. It also has two member functions, `getVariable()` and `setVariable()`"
   ]
  },
  {
   "cell_type": "markdown",
   "metadata": {},
   "source": [
    "Now lets use the class."
   ]
  },
  {
   "cell_type": "code",
   "execution_count": 5,
   "metadata": {},
   "outputs": [
    {
     "name": "stdout",
     "output_type": "stream",
     "text": [
      "1.1\n",
      "20\n"
     ]
    }
   ],
   "source": [
    "# we create a variable of type MyClass\n",
    "myClassVariable = MyClass()\n",
    "\n",
    "# we can then call member functions on our new type MyClass\n",
    "currentValue = myClassVariable.getVariable()\n",
    "print(currentValue)\n",
    "\n",
    "myNewValue = 20\n",
    "myClassVariable.setVariable(myNewValue)\n",
    "\n",
    "currentValue = myClassVariable.getVariable()\n",
    "print(currentValue)\n"
   ]
  },
  {
   "cell_type": "markdown",
   "metadata": {},
   "source": [
    "### Recap on classes\n",
    "\n",
    "You won't be required to write your own classes, we will use classes written for this IOT class.\n",
    "\n",
    "Our code that will run on the Arduino Nano uses classes for most everything. They allow us to group similar ideas into one set of code.\n",
    "\n",
    "When you use a class you are using `object oriented programming` versus  `functional programming`.\n",
    "\n",
    "Some examples of classes we will use are:\n",
    "\n",
    " - **iotButton** - Implements all the code to listen for button pushes.\n",
    " - **iotLed** - Implements all the code to control an LED.\n",
    "\n",
    "Classes are useful for what is called `data abstraction`. As the programmer, you don't need to know the details of how a class is implemented, you only need to know about the member function(s) it defines.\n",
    "\n",
    "When done properly, this system provides an `Application Programming Interface` or API.\n",
    "\n",
    "Other example classes we will use demonstrate this well.\n",
    "\n",
    " - **iotWifi** - A class to abstract away all the details of connecting to Wifi.\n",
    " - **iotMqtt** - A class to abstract away all the details of using Mqtt to publish and subscribe to data on Adafruit IO.\n"
   ]
  }
 ],
 "metadata": {
  "kernelspec": {
   "display_name": "Python 3",
   "language": "python",
   "name": "python3"
  },
  "language_info": {
   "codemirror_mode": {
    "name": "ipython",
    "version": 3
   },
   "file_extension": ".py",
   "mimetype": "text/x-python",
   "name": "python",
   "nbconvert_exporter": "python",
   "pygments_lexer": "ipython3",
   "version": "3.11.3"
  }
 },
 "nbformat": 4,
 "nbformat_minor": 2
}
