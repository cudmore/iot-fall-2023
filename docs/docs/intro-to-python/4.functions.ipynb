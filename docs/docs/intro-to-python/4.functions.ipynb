{
 "cells": [
  {
   "cell_type": "markdown",
   "metadata": {},
   "source": [
    "### Review\n",
    "\n",
    "Wow, we've made a lot of progress here\n",
    "\n",
    " - Variable types like integer, float, string, boolean, list, and dictionary\n",
    " - `if`` statements using a boolean operator like ``==``\n",
    " - `for`` loops\n",
    " - bringing together `for`` loops with `if`` statements\n",
    "\n",
    "We also touched on\n",
    " - The print() statement\n",
    " - The use of `#` to make a free-form comment in our code (e.g. note to self)\n",
    " - The importance of indentation/spacing in Python"
   ]
  },
  {
   "cell_type": "markdown",
   "metadata": {},
   "source": [
    "### The next  concept is a Python `function` using `def`.\n",
    "\n",
    "We will start with some examples."
   ]
  },
  {
   "cell_type": "code",
   "execution_count": 1,
   "metadata": {},
   "outputs": [],
   "source": [
    "# first we define a function to add to numbers\n",
    "def add(a, b):\n",
    "    return a + b"
   ]
  },
  {
   "cell_type": "code",
   "execution_count": 3,
   "metadata": {},
   "outputs": [
    {
     "name": "stdout",
     "output_type": "stream",
     "text": [
      "3\n",
      "result: 7\n"
     ]
    }
   ],
   "source": [
    "# now we will use our new function\n",
    "\n",
    "print(add(1, 2))\n",
    "\n",
    "result = add(3, 4)\n",
    "print('result:', result)"
   ]
  },
  {
   "cell_type": "code",
   "execution_count": 5,
   "metadata": {},
   "outputs": [
    {
     "name": "stdout",
     "output_type": "stream",
     "text": [
      "my result is: 32\n"
     ]
    }
   ],
   "source": [
    "# we can also pass our own variables to a function\n",
    "firstNumber = 12\n",
    "secondNumber = 20\n",
    "\n",
    "result = add(firstNumber, secondNumber)\n",
    "\n",
    "print('my result is:', result)"
   ]
  },
  {
   "cell_type": "markdown",
   "metadata": {},
   "source": [
    "### Important concept\n",
    "\n",
    "Our function defined as\n",
    "\n",
    "```\n",
    "def add(a, b):\n",
    "    return a + b\n",
    "```\n",
    "\n",
    "Does not expect a variable named `a` or `b`, it just expects a number for `a` and a number for `b`."
   ]
  },
  {
   "cell_type": "markdown",
   "metadata": {},
   "source": [
    "### Recap on function\n",
    "\n",
    "A `function` is a fundamental concept in mathematics.\n",
    "\n",
    "It takes some inputs, performs a calculation, and return a result.\n",
    "\n",
    "We have been using functions all along, `print()` is a function. It takes an input and prints it to the notebook.\n",
    "\n"
   ]
  },
  {
   "cell_type": "markdown",
   "metadata": {},
   "source": [
    "### Brining it together\n",
    "\n",
    "Lets use a function to test if our sensor is above a given threshold"
   ]
  },
  {
   "cell_type": "code",
   "execution_count": 7,
   "metadata": {},
   "outputs": [
    {
     "name": "stdout",
     "output_type": "stream",
     "text": [
      "WARNING: sensor value is above threshold 12 and has value 15\n",
      "WARNING: sensor value is above threshold 12 and has value 27\n",
      "WARNING: sensor value is above threshold 12 and has value 35\n",
      "WARNING: sensor value is above threshold 12 and has value 100\n"
     ]
    }
   ],
   "source": [
    "# a function to test if a value is above a threshold\n",
    "def isAboveThreshold(value, threshold):\n",
    "    \"\"\"Return True if value > threshold, otherwise False.\n",
    "    \"\"\"\n",
    "    return value > threshold\n",
    "\n",
    "# these are the values we have read from our sensor\n",
    "sensorValues = [0, 3, 5, 7, 12, 15, 27, 35, 2, 2, 2, 100]\n",
    "\n",
    "# we define a threshold where we want to report the value\n",
    "threshold = 12\n",
    "\n",
    "for sensorValue in sensorValues:\n",
    "    if isAboveThreshold(sensorValue, threshold):\n",
    "        print('WARNING: sensor value is above threshold', threshold, 'and has value', sensorValue)\n",
    "\n"
   ]
  },
  {
   "cell_type": "markdown",
   "metadata": {},
   "source": [
    "### Tutorial\n",
    "\n",
    "- Write a funtion `subtract` that takes two variables. Your function will use `-` to subtract the given variables.\n",
    "- Write a few lines of code to call your function with different values to subtract."
   ]
  }
 ],
 "metadata": {
  "kernelspec": {
   "display_name": "Python 3",
   "language": "python",
   "name": "python3"
  },
  "language_info": {
   "codemirror_mode": {
    "name": "ipython",
    "version": 3
   },
   "file_extension": ".py",
   "mimetype": "text/x-python",
   "name": "python",
   "nbconvert_exporter": "python",
   "pygments_lexer": "ipython3",
   "version": "3.11.3"
  }
 },
 "nbformat": 4,
 "nbformat_minor": 2
}
