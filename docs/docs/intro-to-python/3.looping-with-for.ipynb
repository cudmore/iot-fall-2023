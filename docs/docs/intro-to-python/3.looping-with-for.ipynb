{
 "cells": [
  {
   "cell_type": "markdown",
   "metadata": {},
   "source": [
    "## Looping with `for`\n",
    "\n",
    "So far, we have covered creating variables of different types and if statements.\n",
    "\n",
    "Now we want to try looping some code with the keyword `for`\n",
    "\n",
    "We will start with a simple example using a List of [3, 5, 7, 9]"
   ]
  },
  {
   "cell_type": "code",
   "execution_count": 1,
   "metadata": {},
   "outputs": [
    {
     "name": "stdout",
     "output_type": "stream",
     "text": [
      "i is: 3\n",
      "i is: 5\n",
      "i is: 7\n",
      "i is: 9\n"
     ]
    }
   ],
   "source": [
    "for i in [3, 5, 7, 9]:\n",
    "    print('i is:', i)"
   ]
  },
  {
   "cell_type": "markdown",
   "metadata": {},
   "source": [
    "The list could also come from a variable!"
   ]
  },
  {
   "cell_type": "code",
   "execution_count": 1,
   "metadata": {},
   "outputs": [
    {
     "name": "stdout",
     "output_type": "stream",
     "text": [
      "i is: 3\n",
      "i is: 5\n",
      "i is: 7\n",
      "i is: 9\n"
     ]
    }
   ],
   "source": [
    "aList = [3, 5, 7, 9]\n",
    "\n",
    "for i in aList:\n",
    "    print('i is:', i)"
   ]
  },
  {
   "cell_type": "markdown",
   "metadata": {},
   "source": [
    "When we write\n",
    "\n",
    "```\n",
    "for i in [3, 5, 7, 9]:\n",
    "    print('i is:', i)\n",
    "```\n",
    "\n",
    "Python will `step` over the values in the list and assign `i` to the value at each `step`."
   ]
  },
  {
   "cell_type": "markdown",
   "metadata": {},
   "source": [
    "In the above examples, what is this `i`? Well it is just a vraiable name we create.\n",
    "\n",
    "Here is an example where we use something other than `i`."
   ]
  },
  {
   "cell_type": "code",
   "execution_count": 2,
   "metadata": {},
   "outputs": [
    {
     "name": "stdout",
     "output_type": "stream",
     "text": [
      "3\n",
      "5\n",
      "7\n",
      "9\n"
     ]
    }
   ],
   "source": [
    "aList = [3, 5, 7, 9]\n",
    "\n",
    "for oneItem in aList:\n",
    "    print(oneItem)"
   ]
  },
  {
   "cell_type": "markdown",
   "metadata": {},
   "source": [
    "### Is a string a list?\n",
    "\n",
    "Python is incredibly flexible. For example, a string can be treated like a list.\n",
    "\n",
    "This makes sense? A string is just a list of characters."
   ]
  },
  {
   "cell_type": "code",
   "execution_count": 3,
   "metadata": {},
   "outputs": [
    {
     "name": "stdout",
     "output_type": "stream",
     "text": [
      "a\n",
      "b\n",
      "c\n",
      "d\n",
      "e\n",
      "f\n",
      "g\n"
     ]
    }
   ],
   "source": [
    "aString = 'abcdefg'\n",
    "\n",
    "for oneCharacter in aString:\n",
    "    print(oneCharacter)"
   ]
  },
  {
   "cell_type": "code",
   "execution_count": 4,
   "metadata": {},
   "outputs": [
    {
     "name": "stdout",
     "output_type": "stream",
     "text": [
      "c\n"
     ]
    }
   ],
   "source": [
    "# We can also access a string using our list index with []\n",
    "aString = 'abcdefg'\n",
    "\n",
    "print(aString[2])"
   ]
  },
  {
   "cell_type": "markdown",
   "metadata": {},
   "source": [
    "### Built in functions like range()\n",
    "\n",
    "We have been using some built in function in Python. Things like `if ... else` and `print()`.\n",
    "\n",
    "For looping there is one very useful built in function named `range(int)`. Range takes an integer value and returns a list from 0 up to value-1.\n",
    "\n",
    "Here are some examples."
   ]
  },
  {
   "cell_type": "code",
   "execution_count": 7,
   "metadata": {},
   "outputs": [
    {
     "name": "stdout",
     "output_type": "stream",
     "text": [
      "range(0, 5)\n",
      "i is: 0\n",
      "i is: 1\n",
      "i is: 2\n",
      "i is: 3\n",
      "i is: 4\n"
     ]
    }
   ],
   "source": [
    "for i in range(5):\n",
    "    print('i is:', i)"
   ]
  },
  {
   "cell_type": "code",
   "execution_count": 5,
   "metadata": {},
   "outputs": [
    {
     "name": "stdout",
     "output_type": "stream",
     "text": [
      "i is: 0\n",
      "i is: 1\n",
      "i is: 2\n"
     ]
    }
   ],
   "source": [
    "# range can of course take an integer variable that we define\n",
    "myRange = 3\n",
    "for i in range(myRange):\n",
    "    print('i is:', i)\n",
    "    "
   ]
  },
  {
   "cell_type": "markdown",
   "metadata": {},
   "source": [
    "Can range(int) take a float? If your not sure, just test it out!"
   ]
  },
  {
   "cell_type": "code",
   "execution_count": 9,
   "metadata": {},
   "outputs": [
    {
     "ename": "TypeError",
     "evalue": "'float' object cannot be interpreted as an integer",
     "output_type": "error",
     "traceback": [
      "\u001b[0;31m---------------------------------------------------------------------------\u001b[0m",
      "\u001b[0;31mTypeError\u001b[0m                                 Traceback (most recent call last)",
      "\u001b[1;32m/Users/cudmore/Dropbox/teaching-2023/iot-fall-2023/docs/docs/3.looping.ipynb Cell 13\u001b[0m line \u001b[0;36m2\n\u001b[1;32m      <a href='vscode-notebook-cell:/Users/cudmore/Dropbox/teaching-2023/iot-fall-2023/docs/docs/3.looping.ipynb#X16sZmlsZQ%3D%3D?line=0'>1</a>\u001b[0m myFloat \u001b[39m=\u001b[39m \u001b[39m3.14\u001b[39m\n\u001b[0;32m----> <a href='vscode-notebook-cell:/Users/cudmore/Dropbox/teaching-2023/iot-fall-2023/docs/docs/3.looping.ipynb#X16sZmlsZQ%3D%3D?line=1'>2</a>\u001b[0m \u001b[39mfor\u001b[39;00m i \u001b[39min\u001b[39;00m \u001b[39mrange\u001b[39;49m(myFloat):\n\u001b[1;32m      <a href='vscode-notebook-cell:/Users/cudmore/Dropbox/teaching-2023/iot-fall-2023/docs/docs/3.looping.ipynb#X16sZmlsZQ%3D%3D?line=2'>3</a>\u001b[0m     \u001b[39mprint\u001b[39m(\u001b[39m'\u001b[39m\u001b[39mi is:\u001b[39m\u001b[39m'\u001b[39m, i)\n",
      "\u001b[0;31mTypeError\u001b[0m: 'float' object cannot be interpreted as an integer"
     ]
    }
   ],
   "source": [
    "myFloat = 3.14\n",
    "for i in range(myFloat):\n",
    "    print('i is:', i)"
   ]
  },
  {
   "cell_type": "markdown",
   "metadata": {},
   "source": [
    "Nope, range(int) can not take a float. The error is actually informative, it tells us that range(int) by its definition is expecting an `int` value variable.\n",
    "\n",
    "```TypeError: 'float' object cannot be interpreted as an integer```"
   ]
  },
  {
   "cell_type": "markdown",
   "metadata": {},
   "source": [
    "### Tutorial\n",
    "\n",
    "- Make a list of 5 float numbers.\n",
    "- Write a for loop to print out each items value."
   ]
  },
  {
   "cell_type": "code",
   "execution_count": 6,
   "metadata": {},
   "outputs": [],
   "source": [
    "# add you code here (press run in the top toolbar to run your code)\n"
   ]
  }
 ],
 "metadata": {
  "kernelspec": {
   "display_name": "Python 3",
   "language": "python",
   "name": "python3"
  },
  "language_info": {
   "codemirror_mode": {
    "name": "ipython",
    "version": 3
   },
   "file_extension": ".py",
   "mimetype": "text/x-python",
   "name": "python",
   "nbconvert_exporter": "python",
   "pygments_lexer": "ipython3",
   "version": "3.11.3"
  }
 },
 "nbformat": 4,
 "nbformat_minor": 2
}
