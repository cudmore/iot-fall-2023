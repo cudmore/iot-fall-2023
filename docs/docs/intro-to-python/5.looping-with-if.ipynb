{
 "cells": [
  {
   "cell_type": "markdown",
   "metadata": {},
   "source": [
    "Now we have the basics for conditionals with `if` and looping with `for`.\n",
    "\n",
    "Lets try to bring them together!"
   ]
  },
  {
   "cell_type": "markdown",
   "metadata": {},
   "source": [
    "### Real world example\n",
    "\n",
    "Imagine we have read some values from a sensor and want to take action if the value is above a threshold.\n",
    "\n",
    "In this example, we might be reading from any number of sensors such as a:\n",
    " - thermometer\n",
    " - volume control\n",
    " - light level sensor\n",
    " - earthquake sensor with an accelerometer\n",
    " - tilt sensor with a gyroscope\n",
    " - microphone\n"
   ]
  },
  {
   "cell_type": "code",
   "execution_count": 2,
   "metadata": {},
   "outputs": [
    {
     "name": "stdout",
     "output_type": "stream",
     "text": [
      "WARNING: sensor value is above threshold 12 and has value 15\n",
      "WARNING: sensor value is above threshold 12 and has value 27\n",
      "WARNING: sensor value is above threshold 12 and has value 35\n",
      "WARNING: sensor value is above threshold 12 and has value 100\n"
     ]
    }
   ],
   "source": [
    "# these are the values we have read from our sensor\n",
    "sensorValues = [0, 3, 5, 7, 12, 15, 27, 35, 2, 2, 2, 100]\n",
    "\n",
    "# we define a threshold where we want to report the value\n",
    "threshold = 12\n",
    "\n",
    "for sensorValue in sensorValues:\n",
    "    if sensorValue > threshold:\n",
    "        print('WARNING: sensor value is above threshold', threshold, 'and has value', sensorValue)"
   ]
  },
  {
   "cell_type": "markdown",
   "metadata": {},
   "source": [
    "In this example, we loop over each item in `sensorValues` and if it is greater than our `threshold`, we print a warning."
   ]
  },
  {
   "cell_type": "markdown",
   "metadata": {},
   "source": [
    "### Tutorial\n",
    "\n",
    "- Make a list of integers\n",
    "- Define a threshold\n",
    "- Use a for loop to loop over its items and check if each item is less-than (`<`) a threshold."
   ]
  },
  {
   "cell_type": "code",
   "execution_count": 1,
   "metadata": {},
   "outputs": [],
   "source": [
    "# write your code here (run your code with the run button).\n"
   ]
  }
 ],
 "metadata": {
  "kernelspec": {
   "display_name": "Python 3",
   "language": "python",
   "name": "python3"
  },
  "language_info": {
   "codemirror_mode": {
    "name": "ipython",
    "version": 3
   },
   "file_extension": ".py",
   "mimetype": "text/x-python",
   "name": "python",
   "nbconvert_exporter": "python",
   "pygments_lexer": "ipython3",
   "version": "3.11.5"
  }
 },
 "nbformat": 4,
 "nbformat_minor": 2
}
