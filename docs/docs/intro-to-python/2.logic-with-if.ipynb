{
 "cells": [
  {
   "cell_type": "markdown",
   "metadata": {},
   "source": [
    "## Logic\n",
    "\n",
    "Now that we know about variable types like integer, float, string, etc. We can now start programming some logic into our code using `if` statements.\n",
    "\n",
    "The general form written in pseudo code (not Python) is like this:\n",
    "\n",
    "```\n",
    "if <something-is-true> then\n",
    "    do something\n",
    "else\n",
    "    do something else\n",
    "```"
   ]
  },
  {
   "cell_type": "code",
   "execution_count": 10,
   "metadata": {},
   "outputs": [
    {
     "name": "stdout",
     "output_type": "stream",
     "text": [
      "yes, it is true! it is the way.\n"
     ]
    }
   ],
   "source": [
    "# We can start with a Boolean\n",
    "myBoolean = True\n",
    "if myBoolean:\n",
    "    print('yes, it is true! it is the way.')"
   ]
  },
  {
   "cell_type": "markdown",
   "metadata": {},
   "source": [
    "That `if` statement could be read out loud like:\n",
    "\n",
    "`If the variable myBoolean is true then print 'it is true! it is the way'`\n",
    "\n",
    "This is a good example where Python code is easy to read and understand. You can almost speak the code out loud!!!"
   ]
  },
  {
   "cell_type": "markdown",
   "metadata": {},
   "source": [
    "### Boolean operators\n",
    "\n",
    "Now we will use the boolean operator `==` in a `if` statement. That is a double equal sign!\n",
    "\n",
    "`==` is very different from `=`. The `=` is used to assign a variable while the `==` is used to ask if two things are the same (e.g. are equal).\n",
    "\n",
    "**New concept**. All `if` statements can have an optional `else`."
   ]
  },
  {
   "cell_type": "code",
   "execution_count": 1,
   "metadata": {},
   "outputs": [
    {
     "name": "stdout",
     "output_type": "stream",
     "text": [
      "sorry, 1 does not equal 2\n"
     ]
    }
   ],
   "source": [
    "if 1 == 2:\n",
    "    print('1 equals 2!')\n",
    "else:\n",
    "    print('sorry, 1 does not equal 2')"
   ]
  },
  {
   "cell_type": "markdown",
   "metadata": {},
   "source": [
    "That code is saying:\n",
    "\n",
    "`If 1 equals 2 then print '1 equals 2!', otherwise print 'sorry, 1 does not equal 2'`"
   ]
  },
  {
   "cell_type": "code",
   "execution_count": 8,
   "metadata": {},
   "outputs": [
    {
     "name": "stdout",
     "output_type": "stream",
     "text": [
      "sorry, a does not equal b\n"
     ]
    }
   ],
   "source": [
    "# do that again using variables\n",
    "a = 1\n",
    "b = 2\n",
    "\n",
    "if a == b:\n",
    "    print('a equals b!')\n",
    "else:\n",
    "    print('sorry, a does not equal b')"
   ]
  },
  {
   "cell_type": "markdown",
   "metadata": {},
   "source": [
    "Finally an example where things are true!"
   ]
  },
  {
   "cell_type": "code",
   "execution_count": 9,
   "metadata": {},
   "outputs": [
    {
     "name": "stdout",
     "output_type": "stream",
     "text": [
      "a equals b!\n"
     ]
    }
   ],
   "source": [
    "a = 100\n",
    "b = 100\n",
    "\n",
    "if a == b:\n",
    "    print('a equals b!')\n",
    "else:\n",
    "    print('sorry, a does not equal b')"
   ]
  },
  {
   "cell_type": "markdown",
   "metadata": {},
   "source": [
    "Our boolean conditionals are not limited to equals with `==`, we also have the following boolean conditionals:\n",
    "\n",
    " - `>`\n",
    " - `>=`\n",
    " - `<`\n",
    " - `<=`"
   ]
  },
  {
   "cell_type": "code",
   "execution_count": 15,
   "metadata": {},
   "outputs": [
    {
     "name": "stdout",
     "output_type": "stream",
     "text": [
      "a is less than b\n",
      "sorry, a is not less than b I got a: 300 and b: 12\n"
     ]
    }
   ],
   "source": [
    "# here is an example\n",
    "a = 10\n",
    "b = 200\n",
    "if a < b:\n",
    "    print('a is less than b')\n",
    "\n",
    "# and again with an if .. else\n",
    "a = 300\n",
    "b = 12\n",
    "if a < b:\n",
    "    print('a is less than b')\n",
    "else:\n",
    "    print('sorry, a is not less than b', 'I got a:', a, 'and b:', b)"
   ]
  },
  {
   "cell_type": "markdown",
   "metadata": {},
   "source": [
    "### Tutorial\n",
    "\n",
    "Rewite the above code using `>` or `>=`"
   ]
  },
  {
   "cell_type": "code",
   "execution_count": null,
   "metadata": {},
   "outputs": [],
   "source": [
    "# add your code here (click thee play button in the top toolbar to run your code)"
   ]
  },
  {
   "cell_type": "markdown",
   "metadata": {},
   "source": [
    "### Conclusion\n",
    "\n",
    "Logic operations like `if .. else` are critical to all programming. It allows our code to make choices and perform differently in different situations."
   ]
  },
  {
   "cell_type": "markdown",
   "metadata": {},
   "source": []
  }
 ],
 "metadata": {
  "kernelspec": {
   "display_name": "Python 3 (ipykernel)",
   "language": "python",
   "name": "python3"
  },
  "language_info": {
   "codemirror_mode": {
    "name": "ipython",
    "version": 3
   },
   "file_extension": ".py",
   "mimetype": "text/x-python",
   "name": "python",
   "nbconvert_exporter": "python",
   "pygments_lexer": "ipython3",
   "version": "3.11.3"
  }
 },
 "nbformat": 4,
 "nbformat_minor": 4
}
