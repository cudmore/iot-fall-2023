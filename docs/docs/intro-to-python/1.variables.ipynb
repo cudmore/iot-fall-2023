{
 "cells": [
  {
   "cell_type": "markdown",
   "metadata": {},
   "source": [
    "## Variables\n",
    "\n",
    "Python variables hold values using `=`. There are a number of different variable types.\n",
    "\n",
    "We will cover 6 different variables types:\n",
    "\n",
    " 1) String\n",
    " 2) Integer\n",
    " 3) Float\n",
    " 4) Boolean\n",
    " 5) List\n",
    " 6) Dictionary"
   ]
  },
  {
   "cell_type": "markdown",
   "metadata": {},
   "source": [
    "### 1) String\n",
    "\n",
    "First we create a string variable and then print its value.\n",
    "\n",
    "**Important.** All variable values can be printed with `print()`."
   ]
  },
  {
   "cell_type": "code",
   "execution_count": 1,
   "metadata": {},
   "outputs": [
    {
     "name": "stdout",
     "output_type": "stream",
     "text": [
      "This is a string version 2\n"
     ]
    }
   ],
   "source": [
    "aStringVariable = 'This is a string version 2'\n",
    "\n",
    "print(aStringVariable)"
   ]
  },
  {
   "cell_type": "markdown",
   "metadata": {},
   "source": [
    "### 2-3) Integer and Float\n",
    "\n",
    "- **Integer** types are counting number like 0, 1, 2 and include negative numbers like -5, -3, -2\n",
    "- **Float** types are decimal numbers like 10.2 and 12.6 and also include negative numbers like -26.12\n",
    "\n",
    "One famous float is Pi = 3.1415926535\n",
    "\n",
    "Making either an integer or float variable is similar to making a string variable."
   ]
  },
  {
   "cell_type": "code",
   "execution_count": 20,
   "metadata": {},
   "outputs": [],
   "source": [
    "anInteger = 10\n",
    "aFloat = 12.6"
   ]
  },
  {
   "cell_type": "markdown",
   "metadata": {},
   "source": [
    "### 4) Boolean\n",
    "\n",
    "Boolean variables can be either `True` or `False`\n",
    "\n",
    "**Important.** The words `True` and `False` are built into Python."
   ]
  },
  {
   "cell_type": "code",
   "execution_count": 23,
   "metadata": {},
   "outputs": [],
   "source": [
    "oneBoolean = True\n",
    "anotherBoolean = False"
   ]
  },
  {
   "cell_type": "markdown",
   "metadata": {},
   "source": [
    "With just the concept of String, Integer and Float.\n",
    "\n",
    "We can now start thinking about some algebra like add, substract, and divide\n",
    "\n",
    "Here is an axample of add (`+`)."
   ]
  },
  {
   "cell_type": "code",
   "execution_count": 2,
   "metadata": {},
   "outputs": [
    {
     "name": "stdout",
     "output_type": "stream",
     "text": [
      "12\n",
      "20\n"
     ]
    }
   ],
   "source": [
    "newInteger = 10 + 2\n",
    "print(newInteger)\n",
    "\n",
    "anInteger = 10\n",
    "newInteger = anInteger + anInteger\n",
    "print(newInteger)"
   ]
  },
  {
   "cell_type": "markdown",
   "metadata": {},
   "source": [
    "And subtract"
   ]
  },
  {
   "cell_type": "code",
   "execution_count": 3,
   "metadata": {},
   "outputs": [
    {
     "name": "stdout",
     "output_type": "stream",
     "text": [
      "-10\n",
      "-10\n"
     ]
    }
   ],
   "source": [
    "a = 10\n",
    "b = 20\n",
    "print(a - b)\n",
    "\n",
    "aMinusb = a -b \n",
    "print(aMinusb)"
   ]
  },
  {
   "cell_type": "markdown",
   "metadata": {},
   "source": [
    "And divide"
   ]
  },
  {
   "cell_type": "code",
   "execution_count": 6,
   "metadata": {},
   "outputs": [
    {
     "name": "stdout",
     "output_type": "stream",
     "text": [
      "0.5\n"
     ]
    }
   ],
   "source": [
    "a = 10\n",
    "b = 20\n",
    "print(a/b)"
   ]
  },
  {
   "cell_type": "markdown",
   "metadata": {},
   "source": [
    "With this algebraic notation, we can basically do everyhting you would do in a calculator!"
   ]
  },
  {
   "cell_type": "markdown",
   "metadata": {},
   "source": [
    "#### Errors in Python\n",
    "\n",
    "What if we try to add a String and an Integer? Does that make sense?"
   ]
  },
  {
   "cell_type": "code",
   "execution_count": 2,
   "metadata": {},
   "outputs": [],
   "source": [
    "aString = 'a'\n",
    "anInteger = 6"
   ]
  },
  {
   "cell_type": "code",
   "execution_count": 3,
   "metadata": {},
   "outputs": [
    {
     "ename": "TypeError",
     "evalue": "can only concatenate str (not \"int\") to str",
     "output_type": "error",
     "traceback": [
      "\u001b[0;31m---------------------------------------------------------------------------\u001b[0m",
      "\u001b[0;31mTypeError\u001b[0m                                 Traceback (most recent call last)",
      "\u001b[1;32m/Users/cudmore/Dropbox/teaching-2023/iot-fall-2023/docs/docs/intro-to-python/1.variables.ipynb Cell 15\u001b[0m line \u001b[0;36m1\n\u001b[0;32m----> <a href='vscode-notebook-cell:/Users/cudmore/Dropbox/teaching-2023/iot-fall-2023/docs/docs/intro-to-python/1.variables.ipynb#X33sZmlsZQ%3D%3D?line=0'>1</a>\u001b[0m aString \u001b[39m+\u001b[39;49m anInteger\n",
      "\u001b[0;31mTypeError\u001b[0m: can only concatenate str (not \"int\") to str"
     ]
    }
   ],
   "source": [
    "aString + anInteger"
   ]
  },
  {
   "cell_type": "markdown",
   "metadata": {},
   "source": [
    "What if we reverse the order? Do we get the same error?"
   ]
  },
  {
   "cell_type": "code",
   "execution_count": 4,
   "metadata": {},
   "outputs": [
    {
     "ename": "TypeError",
     "evalue": "unsupported operand type(s) for +: 'int' and 'str'",
     "output_type": "error",
     "traceback": [
      "\u001b[0;31m---------------------------------------------------------------------------\u001b[0m",
      "\u001b[0;31mTypeError\u001b[0m                                 Traceback (most recent call last)",
      "\u001b[1;32m/Users/cudmore/Dropbox/teaching-2023/iot-fall-2023/docs/docs/intro-to-python/1.variables.ipynb Cell 17\u001b[0m line \u001b[0;36m1\n\u001b[0;32m----> <a href='vscode-notebook-cell:/Users/cudmore/Dropbox/teaching-2023/iot-fall-2023/docs/docs/intro-to-python/1.variables.ipynb#X32sZmlsZQ%3D%3D?line=0'>1</a>\u001b[0m anInteger \u001b[39m+\u001b[39;49m aString\n",
      "\u001b[0;31mTypeError\u001b[0m: unsupported operand type(s) for +: 'int' and 'str'"
     ]
    }
   ],
   "source": [
    "anInteger + aString"
   ]
  },
  {
   "cell_type": "markdown",
   "metadata": {},
   "source": [
    "All Python errors have a name, like `TypeError` and then a description like `can only concatenate str (not \"int\") to str`.\n",
    "\n",
    "It is important (and usefull) to read the error and think about the line of code that triggered it.\n",
    "\n",
    "In this case, String + Integer is not allowed. Likewise Integer + String is not allowed."
   ]
  },
  {
   "cell_type": "markdown",
   "metadata": {},
   "source": [
    "Next, can we add an Integer to a Float? I think we can?"
   ]
  },
  {
   "cell_type": "code",
   "execution_count": null,
   "metadata": {},
   "outputs": [
    {
     "name": "stdout",
     "output_type": "stream",
     "text": [
      "10\n",
      "12.6\n",
      "22.6\n"
     ]
    }
   ],
   "source": [
    "anInt = 10\n",
    "aFloat = 12.6\n",
    "newVariable = anInt + aFloat\n",
    "\n",
    "print(anInt)\n",
    "print(aFloat)\n",
    "print(newVariable)"
   ]
  },
  {
   "cell_type": "markdown",
   "metadata": {},
   "source": [
    "So, when we add an Integer to a Float. We end up with a Float."
   ]
  },
  {
   "cell_type": "markdown",
   "metadata": {},
   "source": [
    "### 5) List\n",
    "\n",
    "Lists can contain a mixture of different variable types (including lists!). Any item in a list can be `indexed` with `[]`. List indices start at `0`.\n",
    "\n",
    "**Important.** In this example, we are also adding a comment with `#`. A comment is something for you to take a note for yourself and is often used to explain to some other person using your code what is going on.\n"
   ]
  },
  {
   "cell_type": "code",
   "execution_count": 24,
   "metadata": {},
   "outputs": [
    {
     "name": "stdout",
     "output_type": "stream",
     "text": [
      "[1, 2, 3]\n",
      "1\n",
      "12.3\n",
      "3.1415926535\n"
     ]
    }
   ],
   "source": [
    "# define some lists\n",
    "aList = [1, 2, 3]\n",
    "anotherList = [10.1, 11, 12.3]\n",
    "\n",
    "pi = 3.1415926535\n",
    "aThirdList = [aList, 'b', pi]\n",
    "\n",
    "# print the results\n",
    "print(aList)\n",
    "print(aList[0])\n",
    "print(anotherList[2])\n",
    "print(aThirdList[2])"
   ]
  },
  {
   "cell_type": "markdown",
   "metadata": {},
   "source": [
    "### 6) Dictionary (beyond the scope of this tutorial but important!)\n",
    "\n",
    "Dictionaries are a container to hold any type of variable including dictionaries!\n",
    "\n",
    "The nice thing about dictionaries is you access the values inside using a `key`. Because of this, dictionaries are said to represent `key value pairs`.\n",
    "\n",
    "The syntax for create a dictionary is a bit more complicated. Here, we will focus on accessing data in a dictionary by its key name.\n",
    "\n",
    "The value for each key can be any Python type including Int, Float, String, Dict, etc.!"
   ]
  },
  {
   "cell_type": "code",
   "execution_count": null,
   "metadata": {},
   "outputs": [
    {
     "name": "stdout",
     "output_type": "stream",
     "text": [
      "10\n",
      "[10.1, 11, 12.3]\n"
     ]
    }
   ],
   "source": [
    "aFloatVariable = 12.6\n",
    "anotherList = [10.1, 11, 12.3]\n",
    "\n",
    "aDictionary = {\n",
    "    'firstKey': 'firstKeyValue',\n",
    "    'secondKey': 10,\n",
    "    'thirdKey': aFloatVariable,\n",
    "    'fourthKey': anotherList\n",
    "}\n",
    "\n",
    "print(aDictionary['secondKey'])\n",
    "print(aDictionary['fourthKey'])"
   ]
  },
  {
   "cell_type": "markdown",
   "metadata": {},
   "source": [
    "## Review\n",
    "\n",
    "- We went over the basic Python variable types like integer, float, boolean, and string.\n",
    "- We introduced a Python list with []. Each element of a list can be any variable type\n",
    "- We introduced a Python dictionary that uses a `key` to access its value. Like a list, the value can in turn be any Python type.\n",
    "\n",
    "There are a number of other types we did not cover. For example there is:\n",
    " - set() which is an unordered collection of things, like a list but no order using []\n",
    " - tuple() is a fixed collection of things, once it is created it can not be modified."
   ]
  }
 ],
 "metadata": {
  "kernelspec": {
   "display_name": "Python 3 (ipykernel)",
   "language": "python",
   "name": "python3"
  },
  "language_info": {
   "codemirror_mode": {
    "name": "ipython",
    "version": 3
   },
   "file_extension": ".py",
   "mimetype": "text/x-python",
   "name": "python",
   "nbconvert_exporter": "python",
   "pygments_lexer": "ipython3",
   "version": "3.11.5"
  }
 },
 "nbformat": 4,
 "nbformat_minor": 4
}
